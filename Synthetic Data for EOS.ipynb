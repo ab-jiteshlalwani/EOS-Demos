{
 "cells": [
  {
   "cell_type": "code",
   "execution_count": 2,
   "id": "4a793544",
   "metadata": {},
   "outputs": [],
   "source": [
    "import random\n",
    "import xlsxwriter"
   ]
  },
  {
   "cell_type": "code",
   "execution_count": 3,
   "id": "e272c7c6",
   "metadata": {},
   "outputs": [],
   "source": [
    "num_data_points = 5"
   ]
  },
  {
   "cell_type": "code",
   "execution_count": 4,
   "id": "a1c4f126",
   "metadata": {},
   "outputs": [
    {
     "data": {
      "text/plain": [
       "0"
      ]
     },
     "execution_count": 4,
     "metadata": {},
     "output_type": "execute_result"
    }
   ],
   "source": [
    "book = xlsxwriter.Workbook('data/data-eos.xlsx')\n",
    "sheet = book.add_worksheet('sheet1')\n",
    "\n",
    "content = [\"Targets\", \"Priorities\", \"Size of Targets\", \"Energies of Targets\",\n",
    "           \"Storage Limit of Satellites\",\"Energy Limit of Satellites\",\n",
    "           \"Ground Stations\",\"Limit of Ground Stations\",\"Satellite 1\", \n",
    "           \"Satellite 2\", \"Satellite 3\"]\n",
    "\n",
    "sheet.write(0, 0, content[0])\n",
    "sheet.write(0, 1, content[1])\n",
    "sheet.write(0, 2, content[2])\n",
    "sheet.write(0, 3, content[3])\n",
    "sheet.write(0, 4, content[4])\n",
    "sheet.write(0, 5, content[5])\n",
    "sheet.write(0, 6, content[6])\n",
    "sheet.write(0, 7, content[7])\n",
    "sheet.write(0, 8, content[8])\n",
    "sheet.write(0, 9, content[9])\n",
    "sheet.write(0, 10, content[10])"
   ]
  },
  {
   "cell_type": "code",
   "execution_count": 5,
   "id": "d3e0c9c4",
   "metadata": {},
   "outputs": [],
   "source": [
    "row = 0;\n",
    "def write_to_excel(main_index):\n",
    "    row = main_index + 1        \n",
    "    sheet.write(row, 0, str(['T' + str(target) for target in targets]))\n",
    "    sheet.write(row, 1, str(priorities))\n",
    "    sheet.write(row, 2, str(sizes))\n",
    "    sheet.write(row, 3, str(energies))\n",
    "    sheet.write(row, 4, str(storage_limit))\n",
    "    sheet.write(row, 5, str(energy_limit))\n",
    "    sheet.write(row, 6, str(['GS' + str(ground_station) for ground_station in ground_stations]))\n",
    "    sheet.write(row, 7, str([-limit for limit in gs_limit]))\n",
    "    write_satellite_coverage_area(row, 8, s1)\n",
    "    write_satellite_coverage_area(row, 9, s2)\n",
    "    write_satellite_coverage_area(row, 10, s3)   \n",
    "    "
   ]
  },
  {
   "cell_type": "code",
   "execution_count": 6,
   "id": "a15ad8b1",
   "metadata": {},
   "outputs": [],
   "source": [
    "def write_satellite_coverage_area(row, col, satellite):\n",
    "    satellite_coverage = []\n",
    "    for sat in satellite:\n",
    "        if sat < 0:\n",
    "            gs_limit_index = gs_limit.index(sat)\n",
    "            satellite_coverage.append('GS' + str(ground_stations[gs_limit_index]))\n",
    "        else:\n",
    "            satellite_coverage.append(sat)\n",
    "    sheet.write(row, col, str(satellite_coverage))"
   ]
  },
  {
   "cell_type": "code",
   "execution_count": 7,
   "id": "b5809e13",
   "metadata": {},
   "outputs": [],
   "source": [
    "\n",
    "for main_index in range(num_data_points):\n",
    "    # Generate a random size for the targets array between 1 and 35\n",
    "    size = random.randint(1, 1000)\n",
    "    size = size if size < 1000 else 999\n",
    " \n",
    "    #random.seed(12)\n",
    "    # Generate a random array of targets between 1 and 35 with the specified size\n",
    "    targets = random.sample(range(1, 1000), size)\n",
    "\n",
    "    #random.seed(12) \n",
    "    # Generate a random array of sizes between 4 and 100 with the same size as the targets array\n",
    "    sizes = random.sample(range(4, 1000), size)\n",
    "\n",
    "\n",
    "    #random.seed(12)\n",
    "    # Generate a random array of priorities between 1 and 35 with the same size as the targets array\n",
    "    priorities = random.sample(range(1, 1000), size)\n",
    "\n",
    "    #random.seed(12)\n",
    "    # Generate a random array of energies between 0.1 and 1 with the same size as the targets array\n",
    "    # energies = [random.uniform(0.1, 1) for _ in range(size)]\n",
    "    energies = random.sample(range(1, 1000), size)\n",
    "\n",
    "    #random.seed(12)\n",
    "    # Generate a random array of ground stations between 1 and 5 with the specified size\n",
    "    ground_stations = random.sample(range(1, 180), random.randint(1, 100))\n",
    "\n",
    "    # Generate storage limit of each ground stations:\n",
    "    gs_limit = []\n",
    "    for i in range(len(ground_stations)):\n",
    "        #random.seed(12+i)\n",
    "        gs_limit.append(random.randint(-400, -270))\n",
    "    \n",
    "    # Generate a random array of s1 values using the targets and ground_stations arrays\n",
    "    s1_targets = random.sample(targets, random.randint(1, len(targets)))\n",
    "\n",
    "\n",
    "    s1 = []\n",
    "    for i in range(len(s1_targets)):\n",
    "        s1.append(s1_targets[i])\n",
    "\n",
    "    for i in range(len(gs_limit)):\n",
    "        s1.append(gs_limit[i])\n",
    "\n",
    "    #random.seed(12)\n",
    "    random.shuffle(s1)\n",
    "\n",
    "    #random.seed(22)\n",
    "    s2_targets = random.sample(targets, random.randint(1, len(targets)))\n",
    "\n",
    "\n",
    "    s2 = []\n",
    "    for i in range(len(s2_targets)):\n",
    "        s2.append(s2_targets[i])\n",
    "\n",
    "    for i in range(len(gs_limit)):\n",
    "        s2.append(gs_limit[i])\n",
    "    \n",
    "    #random.seed(12)\n",
    "    random.shuffle(s2)\n",
    "\n",
    "    #random.seed(32)\n",
    "    s3_targets = random.sample(targets, random.randint(1, len(targets)))\n",
    "\n",
    "\n",
    "\n",
    "    s3 = []\n",
    "    for i in range(len(s3_targets)):\n",
    "        s3.append(s3_targets[i])\n",
    "\n",
    "    for i in range(len(gs_limit)):\n",
    "        s3.append(gs_limit[i])\n",
    "\n",
    "    #random.seed(12)\n",
    "    random.shuffle(s3)\n",
    "    \n",
    "    # Generate energy limit and storage limit of each satellite\n",
    "    energy_limit = []\n",
    "    storage_limit = []\n",
    "    for i in range(3):\n",
    "        energy_limit.append(random.randint(1000, 2700))\n",
    "        storage_limit.append(random.randint(2700,4000))\n",
    "    \n",
    "   \n",
    "    write_to_excel(main_index)\n",
    "    \n",
    "book.close()"
   ]
  },
  {
   "cell_type": "code",
   "execution_count": null,
   "id": "7b3df3a5",
   "metadata": {},
   "outputs": [],
   "source": []
  }
 ],
 "metadata": {
  "kernelspec": {
   "display_name": "Python 3 (ipykernel)",
   "language": "python",
   "name": "python3"
  },
  "language_info": {
   "codemirror_mode": {
    "name": "ipython",
    "version": 3
   },
   "file_extension": ".py",
   "mimetype": "text/x-python",
   "name": "python",
   "nbconvert_exporter": "python",
   "pygments_lexer": "ipython3",
   "version": "3.9.13"
  }
 },
 "nbformat": 4,
 "nbformat_minor": 5
}
