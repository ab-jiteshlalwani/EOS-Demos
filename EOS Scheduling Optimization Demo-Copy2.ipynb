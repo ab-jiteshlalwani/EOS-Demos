{
 "cells": [
  {
   "cell_type": "markdown",
   "id": "b746e5d5",
   "metadata": {},
   "source": [
    "<div>\n",
    "    <img src=\"assets/intro_page.png\" />\n",
    "</div>\n"
   ]
  },
  {
   "cell_type": "markdown",
   "id": "3c17091f",
   "metadata": {},
   "source": [
    "<div>\n",
    "    <img src=\"assets/team_info.png\" />\n",
    "</div>\n"
   ]
  },
  {
   "cell_type": "markdown",
   "id": "b31e9496",
   "metadata": {},
   "source": [
    "<div>\n",
    "    <img src=\"assets/eos-white-paper.png\" height=100 width=600 />\n",
    "</div>"
   ]
  },
  {
   "cell_type": "markdown",
   "id": "b299c3af",
   "metadata": {},
   "source": [
    "#### Why optimizing scheduling of EOS is complex?\n",
    "\n",
    "It is a complicated process because observing and downloading operations are both involved. There could be multiple constraints such as:  \n",
    "* Energy constraints.\n",
    "* Storage capacity constraints.\n",
    "* Priority of targets.\n",
    "* Camera cooling time.\n",
    "* Downlink window time.\n",
    "* Weather\n",
    "\n",
    "#### Different ways to choose K targets based on constraints from N targets areas:\n",
    "\n",
    "> - Total targets to be captured (N): **10**\n",
    "> - Maximum number of Targets that can be captured (K): **4**\n",
    "> - The number of combinations: **210**\n",
    "\n",
    "> - Total targets to be captured (N): **1000**\n",
    "> - Maximum number of Targets that can be captured (K): **40**\n",
    "> - The number of combinations: **5.559 × 10<sup>71</sup>** = 555974423571664033815804589243553849851258056649719919687842027223208475\n"
   ]
  },
  {
   "cell_type": "code",
   "execution_count": 2,
   "id": "4a793544",
   "metadata": {},
   "outputs": [],
   "source": [
    "import pandas as pd\n",
    "import json\n",
    "import requests\n",
    "import seaborn as sns\n",
    "import warnings\n",
    "warnings.filterwarnings(\"ignore\")"
   ]
  },
  {
   "cell_type": "code",
   "execution_count": 2,
   "id": "e272c7c6",
   "metadata": {},
   "outputs": [],
   "source": [
    "excel_file = 'data/data-eos-5.xlsx'\n",
    "eos_data_df = pd.read_excel(excel_file, nrows=1)"
   ]
  },
  {
   "cell_type": "code",
   "execution_count": 3,
   "id": "ae6e5e17",
   "metadata": {},
   "outputs": [
    {
     "data": {
      "text/html": [
       "<div>\n",
       "<style scoped>\n",
       "    .dataframe tbody tr th:only-of-type {\n",
       "        vertical-align: middle;\n",
       "    }\n",
       "\n",
       "    .dataframe tbody tr th {\n",
       "        vertical-align: top;\n",
       "    }\n",
       "\n",
       "    .dataframe thead th {\n",
       "        text-align: right;\n",
       "    }\n",
       "</style>\n",
       "<table border=\"1\" class=\"dataframe\">\n",
       "  <thead>\n",
       "    <tr style=\"text-align: right;\">\n",
       "      <th></th>\n",
       "      <th>Targets</th>\n",
       "      <th>Priorities</th>\n",
       "      <th>Size of Targets</th>\n",
       "      <th>Energies of Targets</th>\n",
       "      <th>Storage Limit of Satellites</th>\n",
       "      <th>Energy Limit of Satellites</th>\n",
       "      <th>Ground Stations</th>\n",
       "      <th>Limit of Ground Stations</th>\n",
       "      <th>Satellite 1</th>\n",
       "      <th>Satellite 2</th>\n",
       "      <th>Satellite 3</th>\n",
       "    </tr>\n",
       "  </thead>\n",
       "  <tbody>\n",
       "    <tr>\n",
       "      <th>0</th>\n",
       "      <td>['T18', 'T43', 'T10', 'T26', 'T36', 'T11', 'T4...</td>\n",
       "      <td>[30, 3, 9, 26, 14, 10, 29, 27, 2, 11, 24, 18, ...</td>\n",
       "      <td>[36, 20, 28, 14, 15, 16, 24, 12, 26, 18, 9, 22...</td>\n",
       "      <td>[26, 10, 23, 19, 9, 4, 14, 6, 11, 25, 1, 8, 2,...</td>\n",
       "      <td>[296, 318, 391]</td>\n",
       "      <td>[100, 151, 169]</td>\n",
       "      <td>['GS3', 'GS2', 'GS1']</td>\n",
       "      <td>[37, 38, 39]</td>\n",
       "      <td>[27, 25, 'GS1', 'GS2', 10, 'GS3', 37, 15, 35, ...</td>\n",
       "      <td>[40, 24, 30, 21, 43, 23, 11, 13, 32, 38, 37, 4...</td>\n",
       "      <td>[30, 'GS2', 20, 34, 14, 27, 41, 35, 42, 17, 10...</td>\n",
       "    </tr>\n",
       "  </tbody>\n",
       "</table>\n",
       "</div>"
      ],
      "text/plain": [
       "                                             Targets  \\\n",
       "0  ['T18', 'T43', 'T10', 'T26', 'T36', 'T11', 'T4...   \n",
       "\n",
       "                                          Priorities  \\\n",
       "0  [30, 3, 9, 26, 14, 10, 29, 27, 2, 11, 24, 18, ...   \n",
       "\n",
       "                                     Size of Targets  \\\n",
       "0  [36, 20, 28, 14, 15, 16, 24, 12, 26, 18, 9, 22...   \n",
       "\n",
       "                                 Energies of Targets  \\\n",
       "0  [26, 10, 23, 19, 9, 4, 14, 6, 11, 25, 1, 8, 2,...   \n",
       "\n",
       "  Storage Limit of Satellites Energy Limit of Satellites  \\\n",
       "0             [296, 318, 391]            [100, 151, 169]   \n",
       "\n",
       "         Ground Stations Limit of Ground Stations  \\\n",
       "0  ['GS3', 'GS2', 'GS1']             [37, 38, 39]   \n",
       "\n",
       "                                         Satellite 1  \\\n",
       "0  [27, 25, 'GS1', 'GS2', 10, 'GS3', 37, 15, 35, ...   \n",
       "\n",
       "                                         Satellite 2  \\\n",
       "0  [40, 24, 30, 21, 43, 23, 11, 13, 32, 38, 37, 4...   \n",
       "\n",
       "                                         Satellite 3  \n",
       "0  [30, 'GS2', 20, 34, 14, 27, 41, 35, 42, 17, 10...  "
      ]
     },
     "execution_count": 3,
     "metadata": {},
     "output_type": "execute_result"
    }
   ],
   "source": [
    "eos_data_df.head()"
   ]
  },
  {
   "cell_type": "code",
   "execution_count": 4,
   "id": "f600626f",
   "metadata": {},
   "outputs": [],
   "source": [
    "input_json_array = []\n",
    "for index, row in eos_data_df.iterrows():\n",
    "    input_json_array.append({'Targets': row['Targets'], 'Priorities': row['Priorities'],\n",
    "                             'Size of Targets': row['Size of Targets'], \n",
    "                             'Energies of Targets': row['Energies of Targets'],\n",
    "                             'Storage Limit of Satellites': row['Storage Limit of Satellites'], \n",
    "                             'Energy Limit of Satellites': row['Energy Limit of Satellites'],\n",
    "                             'Ground Stations': row['Ground Stations'], \n",
    "                             'Limit of Ground Stations': row['Limit of Ground Stations'],\n",
    "                             'Satellite 1': row['Satellite 1'], 'Satellite 2': row['Satellite 2'],\n",
    "                             'Satellite 3': row['Satellite 3']                            \n",
    "                            })\n",
    "input_json = json.dumps({\"input_json\": input_json_array})"
   ]
  },
  {
   "cell_type": "code",
   "execution_count": 5,
   "id": "9815b8d5",
   "metadata": {},
   "outputs": [],
   "source": [
    "response = requests.post(\"https://api.artificialbrain.tech/quantumOptimizeEOS\", input_json, headers=headers)"
   ]
  },
  {
   "cell_type": "code",
   "execution_count": 13,
   "id": "84e483c0",
   "metadata": {},
   "outputs": [],
   "source": [
    "eos_response = json.dumps(response.json(), indent=4)"
   ]
  },
  {
   "cell_type": "code",
   "execution_count": 41,
   "id": "ec8b8efa",
   "metadata": {},
   "outputs": [
    {
     "name": "stdout",
     "output_type": "stream",
     "text": [
      "{\n",
      "    \"Results\": [\n",
      "        {\n",
      "            \"Result\": [\n",
      "                \"T15\",\n",
      "                \"T14\",\n",
      "                \"T29\",\n",
      "                \"T27\",\n",
      "                \"T24\",\n",
      "                \"T13\",\n",
      "                \"T36\",\n",
      "                \"T44\",\n",
      "                \"T26\",\n",
      "                \"T22\",\n",
      "                \"T39\",\n",
      "                \"T38\",\n",
      "                \"T31\",\n",
      "                \"T20\",\n",
      "                \"T41\",\n",
      "                \"T35\",\n",
      "                \"T12\",\n",
      "                \"T21\"\n",
      "            ],\n",
      "            \"Total Priority\": 431,\n",
      "            \"Execution Time\": 8.514117240905762,\n",
      "            \"Satisfied all Constraints?\": true,\n",
      "            \"Constraints Not Satisfied\": [],\n",
      "            \"Targets for Satellite 1\": [\n",
      "                \"T15\",\n",
      "                \"T14\",\n",
      "                \"T29\",\n",
      "                \"T27\"\n",
      "            ],\n",
      "            \"Targets for Satellite 2\": [\n",
      "                \"T24\",\n",
      "                \"T13\",\n",
      "                \"T36\",\n",
      "                \"T44\",\n",
      "                \"T26\",\n",
      "                \"T22\"\n",
      "            ],\n",
      "            \"Targets for Satellite 3\": [\n",
      "                \"T39\",\n",
      "                \"T38\",\n",
      "                \"T31\",\n",
      "                \"T20\",\n",
      "                \"T41\",\n",
      "                \"T35\",\n",
      "                \"T12\",\n",
      "                \"T21\"\n",
      "            ]\n",
      "        }\n",
      "    ]\n",
      "}\n"
     ]
    }
   ],
   "source": [
    "print(eos_response)"
   ]
  },
  {
   "cell_type": "markdown",
   "id": "3dd9561d",
   "metadata": {},
   "source": [
    "# Benchmarking Results"
   ]
  },
  {
   "cell_type": "code",
   "execution_count": 10,
   "id": "cdc4565c",
   "metadata": {},
   "outputs": [],
   "source": [
    "excel_file = 'data/results-eos-100-600.xlsx'\n",
    "eos_benchmark_df = pd.read_excel(excel_file)"
   ]
  },
  {
   "cell_type": "code",
   "execution_count": 11,
   "id": "709668ab",
   "metadata": {},
   "outputs": [
    {
     "name": "stdout",
     "output_type": "stream",
     "text": [
      "Mean of Total Priority \n",
      "\n",
      "Quantum 34341\n",
      "Simulated Annealing 15652\n",
      "Gurobi optimizer 30343\n"
     ]
    }
   ],
   "source": [
    "print(\"Mean of Total Priority \\n\")\n",
    "print(\"Quantum\", int(eos_benchmark_df[\"Total Priority (Quantum)\"].mean()))\n",
    "print(\"Simulated Annealing\", int(eos_benchmark_df[\"Total Priority (Simulated Annealing)\"].mean()))\n",
    "print(\"Gurobi optimizer\",int(eos_benchmark_df[\"Total Priority (Gurobi Optimizer)\"].mean()))"
   ]
  },
  {
   "cell_type": "code",
   "execution_count": 12,
   "id": "8fd076a9",
   "metadata": {},
   "outputs": [
    {
     "name": "stdout",
     "output_type": "stream",
     "text": [
      "Mean of Execution Time \n",
      "\n",
      "Quantum 179491.24\n",
      "Simulated Annealing 5335.14\n",
      "Gurobi optimizer 274352.07\n"
     ]
    }
   ],
   "source": [
    "print(\"Mean of Execution Time \\n\")\n",
    "execution_time_quantum = eos_benchmark_df[\"Execution Time (Quantum)\"].mean()\n",
    "print(\"Quantum {:.2f}\".format(eos_benchmark_df[\"Execution Time (Quantum)\"].mean()))\n",
    "print(\"Simulated Annealing {:.2f}\".format(eos_benchmark_df[\"Execution Time (Simulated Annealing)\"].mean()))\n",
    "print(\"Gurobi optimizer {:.2f}\".format(eos_benchmark_df[\"Execution Time (Gurobi Optimizer)\"].mean()))"
   ]
  },
  {
   "cell_type": "code",
   "execution_count": 13,
   "id": "e7ae5159",
   "metadata": {},
   "outputs": [
    {
     "name": "stdout",
     "output_type": "stream",
     "text": [
      "Quantum Results:\n"
     ]
    },
    {
     "data": {
      "image/png": "[encoded data removed]",
      "text/plain": [
       "<Figure size 640x480 with 1 Axes>"
      ]
     },
     "metadata": {},
     "output_type": "display_data"
    }
   ],
   "source": [
    "print('Quantum Results:')\n",
    "eos_benchmark_df[\"Satisified all Constraints? (Quantum)\"].value_counts()\n",
    "sns.countplot(eos_benchmark_df['Satisified all Constraints? (Quantum)'], palette=['g']);"
   ]
  },
  {
   "cell_type": "code",
   "execution_count": 14,
   "id": "f1b21ff2",
   "metadata": {},
   "outputs": [
    {
     "name": "stdout",
     "output_type": "stream",
     "text": [
      "Simulated Annealing Results:\n"
     ]
    },
    {
     "data": {
      "image/png": "[encoded data removed]",
      "text/plain": [
       "<Figure size 640x480 with 1 Axes>"
      ]
     },
     "metadata": {},
     "output_type": "display_data"
    }
   ],
   "source": [
    "print('Simulated Annealing Results:')\n",
    "eos_benchmark_df[\"Satisified all Constraints? (Simulated Annealing)\"].value_counts()\n",
    "sns.countplot(eos_benchmark_df['Satisified all Constraints? (Simulated Annealing)'], palette=['r', 'g']);"
   ]
  },
  {
   "cell_type": "code",
   "execution_count": 15,
   "id": "681ef514",
   "metadata": {},
   "outputs": [
    {
     "name": "stdout",
     "output_type": "stream",
     "text": [
      "Gurobi Optimizer Results:\n"
     ]
    },
    {
     "data": {
      "image/png": "[encoded data removed]",
      "text/plain": [
       "<Figure size 640x480 with 1 Axes>"
      ]
     },
     "metadata": {},
     "output_type": "display_data"
    }
   ],
   "source": [
    "print('Gurobi Optimizer Results:')\n",
    "eos_benchmark_df[\"Satisified all Constraints? (Gurobi Optimizer)\"].value_counts()\n",
    "sns.countplot(eos_benchmark_df['Satisified all Constraints? (Gurobi Optimizer)'], palette=['r', 'g']);"
   ]
  },
  {
   "cell_type": "markdown",
   "id": "103dbf62",
   "metadata": {},
   "source": [
    "<div>\n",
    "    <img src=\"assets/mars-paper.png\" height=100 width=600 />\n",
    "</div>\n",
    "\n",
    "<div>\n",
    "    <img src=\"assets/space-debris-white-paper.png\" height=100 width=600 />\n",
    "</div>\n",
    "<div>\n",
    "    <img src=\"assets/satellite-placement-white-paper.png\" height=100 width=600 />\n",
    "</div>"
   ]
  }
 ],
 "metadata": {
  "kernelspec": {
   "display_name": "Python 3 (ipykernel)",
   "language": "python",
   "name": "python3"
  },
  "language_info": {
   "codemirror_mode": {
    "name": "ipython",
    "version": 3
   },
   "file_extension": ".py",
   "mimetype": "text/x-python",
   "name": "python",
   "nbconvert_exporter": "python",
   "pygments_lexer": "ipython3",
   "version": "3.9.13"
  }
 },
 "nbformat": 4,
 "nbformat_minor": 5
}
